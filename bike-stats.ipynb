{
 "metadata": {
  "language_info": {
   "codemirror_mode": {
    "name": "ipython",
    "version": 3
   },
   "file_extension": ".py",
   "mimetype": "text/x-python",
   "name": "python",
   "nbconvert_exporter": "python",
   "pygments_lexer": "ipython3",
   "version": "3.9.0-final"
  },
  "orig_nbformat": 2,
  "kernelspec": {
   "name": "python3",
   "display_name": "Python 3.9.0 64-bit ('.venv')",
   "metadata": {
    "interpreter": {
     "hash": "47075f22e31dc3d5e74c611cb86b9bc8e3dc492910559ee952d04b6740553c85"
    }
   }
  }
 },
 "nbformat": 4,
 "nbformat_minor": 2,
 "cells": [
  {
   "cell_type": "code",
   "execution_count": 2,
   "metadata": {},
   "outputs": [],
   "source": [
    "import pandas as pd\n",
    "import datetime"
   ]
  },
  {
   "cell_type": "code",
   "execution_count": 3,
   "metadata": {},
   "outputs": [
    {
     "output_type": "stream",
     "name": "stderr",
     "text": [
      "b'Skipping line 50794: expected 12 fields, saw 20\\n'\n"
     ]
    },
    {
     "output_type": "execute_result",
     "data": {
      "text/plain": [
       "           Date  Max_Temperature_F  Mean_Temperature_F  Min_TemperatureF  \\\n",
       "0    10/13/2014                 71                62.0                54   \n",
       "1    10/14/2014                 63                59.0                55   \n",
       "2    10/15/2014                 62                58.0                54   \n",
       "3    10/16/2014                 71                61.0                52   \n",
       "4    10/17/2014                 64                60.0                57   \n",
       "..          ...                ...                 ...               ...   \n",
       "684   8/27/2016                 72                66.0                61   \n",
       "685   8/28/2016                 75                68.0                59   \n",
       "686   8/29/2016                 81                68.0                55   \n",
       "687   8/30/2016                 70                64.0                57   \n",
       "688   8/31/2016                 71                65.0                59   \n",
       "\n",
       "     Max_Dew_Point_F  MeanDew_Point_F  Min_Dewpoint_F  Max_Humidity  \\\n",
       "0                 55               51              46            87   \n",
       "1                 52               51              50            88   \n",
       "2                 53               50              46            87   \n",
       "3                 49               46              42            83   \n",
       "4                 55               51              41            87   \n",
       "..               ...              ...             ...           ...   \n",
       "684               57               54              50            81   \n",
       "685               54               52              50            80   \n",
       "686               55               53              50            89   \n",
       "687               55               53              52            83   \n",
       "688               61               56              52            90   \n",
       "\n",
       "     Mean_Humidity  Min_Humidity  ...  Mean_Sea_Level_Pressure_In  \\\n",
       "0               68            46  ...                       29.79   \n",
       "1               78            63  ...                       29.75   \n",
       "2               77            67  ...                       29.71   \n",
       "3               61            36  ...                       29.95   \n",
       "4               72            46  ...                       29.78   \n",
       "..             ...           ...  ...                         ...   \n",
       "684             65            46  ...                       29.88   \n",
       "685             65            44  ...                       30.06   \n",
       "686             65            39  ...                       30.02   \n",
       "687             69            53  ...                       30.01   \n",
       "688             77            63  ...                       29.97   \n",
       "\n",
       "     Min_Sea_Level_Pressure_In  Max_Visibility_Miles  Mean_Visibility_Miles  \\\n",
       "0                        29.65                    10                     10   \n",
       "1                        29.54                    10                      9   \n",
       "2                        29.51                    10                      9   \n",
       "3                        29.81                    10                     10   \n",
       "4                        29.73                    10                     10   \n",
       "..                         ...                   ...                    ...   \n",
       "684                      29.77                    10                     10   \n",
       "685                      30.01                    10                     10   \n",
       "686                      29.95                    10                     10   \n",
       "687                      29.97                    10                     10   \n",
       "688                      29.96                    10                     10   \n",
       "\n",
       "     Min_Visibility_Miles  Max_Wind_Speed_MPH  Mean_Wind_Speed_MPH  \\\n",
       "0                       4                  13                    4   \n",
       "1                       3                  10                    5   \n",
       "2                       3                  18                    7   \n",
       "3                      10                   9                    4   \n",
       "4                       6                   8                    3   \n",
       "..                    ...                 ...                  ...   \n",
       "684                    10                  16                    9   \n",
       "685                    10                  12                    9   \n",
       "686                     6                   9                    4   \n",
       "687                    10                  14                    9   \n",
       "688                     8                  14                    8   \n",
       "\n",
       "     Max_Gust_Speed_MPH Precipitation_In  Events  \n",
       "0                    21             0.00    Rain  \n",
       "1                    17             0.11    Rain  \n",
       "2                    25             0.45    Rain  \n",
       "3                     -             0.00    Rain  \n",
       "4                     -             0.14    Rain  \n",
       "..                  ...              ...     ...  \n",
       "684                 NaN             0.00     NaN  \n",
       "685                 NaN             0.00     NaN  \n",
       "686                 NaN             0.00     NaN  \n",
       "687                  18             0.00     NaN  \n",
       "688                 NaN             0.00    Rain  \n",
       "\n",
       "[689 rows x 21 columns]"
      ],
      "text/html": "<div>\n<style scoped>\n    .dataframe tbody tr th:only-of-type {\n        vertical-align: middle;\n    }\n\n    .dataframe tbody tr th {\n        vertical-align: top;\n    }\n\n    .dataframe thead th {\n        text-align: right;\n    }\n</style>\n<table border=\"1\" class=\"dataframe\">\n  <thead>\n    <tr style=\"text-align: right;\">\n      <th></th>\n      <th>Date</th>\n      <th>Max_Temperature_F</th>\n      <th>Mean_Temperature_F</th>\n      <th>Min_TemperatureF</th>\n      <th>Max_Dew_Point_F</th>\n      <th>MeanDew_Point_F</th>\n      <th>Min_Dewpoint_F</th>\n      <th>Max_Humidity</th>\n      <th>Mean_Humidity</th>\n      <th>Min_Humidity</th>\n      <th>...</th>\n      <th>Mean_Sea_Level_Pressure_In</th>\n      <th>Min_Sea_Level_Pressure_In</th>\n      <th>Max_Visibility_Miles</th>\n      <th>Mean_Visibility_Miles</th>\n      <th>Min_Visibility_Miles</th>\n      <th>Max_Wind_Speed_MPH</th>\n      <th>Mean_Wind_Speed_MPH</th>\n      <th>Max_Gust_Speed_MPH</th>\n      <th>Precipitation_In</th>\n      <th>Events</th>\n    </tr>\n  </thead>\n  <tbody>\n    <tr>\n      <th>0</th>\n      <td>10/13/2014</td>\n      <td>71</td>\n      <td>62.0</td>\n      <td>54</td>\n      <td>55</td>\n      <td>51</td>\n      <td>46</td>\n      <td>87</td>\n      <td>68</td>\n      <td>46</td>\n      <td>...</td>\n      <td>29.79</td>\n      <td>29.65</td>\n      <td>10</td>\n      <td>10</td>\n      <td>4</td>\n      <td>13</td>\n      <td>4</td>\n      <td>21</td>\n      <td>0.00</td>\n      <td>Rain</td>\n    </tr>\n    <tr>\n      <th>1</th>\n      <td>10/14/2014</td>\n      <td>63</td>\n      <td>59.0</td>\n      <td>55</td>\n      <td>52</td>\n      <td>51</td>\n      <td>50</td>\n      <td>88</td>\n      <td>78</td>\n      <td>63</td>\n      <td>...</td>\n      <td>29.75</td>\n      <td>29.54</td>\n      <td>10</td>\n      <td>9</td>\n      <td>3</td>\n      <td>10</td>\n      <td>5</td>\n      <td>17</td>\n      <td>0.11</td>\n      <td>Rain</td>\n    </tr>\n    <tr>\n      <th>2</th>\n      <td>10/15/2014</td>\n      <td>62</td>\n      <td>58.0</td>\n      <td>54</td>\n      <td>53</td>\n      <td>50</td>\n      <td>46</td>\n      <td>87</td>\n      <td>77</td>\n      <td>67</td>\n      <td>...</td>\n      <td>29.71</td>\n      <td>29.51</td>\n      <td>10</td>\n      <td>9</td>\n      <td>3</td>\n      <td>18</td>\n      <td>7</td>\n      <td>25</td>\n      <td>0.45</td>\n      <td>Rain</td>\n    </tr>\n    <tr>\n      <th>3</th>\n      <td>10/16/2014</td>\n      <td>71</td>\n      <td>61.0</td>\n      <td>52</td>\n      <td>49</td>\n      <td>46</td>\n      <td>42</td>\n      <td>83</td>\n      <td>61</td>\n      <td>36</td>\n      <td>...</td>\n      <td>29.95</td>\n      <td>29.81</td>\n      <td>10</td>\n      <td>10</td>\n      <td>10</td>\n      <td>9</td>\n      <td>4</td>\n      <td>-</td>\n      <td>0.00</td>\n      <td>Rain</td>\n    </tr>\n    <tr>\n      <th>4</th>\n      <td>10/17/2014</td>\n      <td>64</td>\n      <td>60.0</td>\n      <td>57</td>\n      <td>55</td>\n      <td>51</td>\n      <td>41</td>\n      <td>87</td>\n      <td>72</td>\n      <td>46</td>\n      <td>...</td>\n      <td>29.78</td>\n      <td>29.73</td>\n      <td>10</td>\n      <td>10</td>\n      <td>6</td>\n      <td>8</td>\n      <td>3</td>\n      <td>-</td>\n      <td>0.14</td>\n      <td>Rain</td>\n    </tr>\n    <tr>\n      <th>...</th>\n      <td>...</td>\n      <td>...</td>\n      <td>...</td>\n      <td>...</td>\n      <td>...</td>\n      <td>...</td>\n      <td>...</td>\n      <td>...</td>\n      <td>...</td>\n      <td>...</td>\n      <td>...</td>\n      <td>...</td>\n      <td>...</td>\n      <td>...</td>\n      <td>...</td>\n      <td>...</td>\n      <td>...</td>\n      <td>...</td>\n      <td>...</td>\n      <td>...</td>\n      <td>...</td>\n    </tr>\n    <tr>\n      <th>684</th>\n      <td>8/27/2016</td>\n      <td>72</td>\n      <td>66.0</td>\n      <td>61</td>\n      <td>57</td>\n      <td>54</td>\n      <td>50</td>\n      <td>81</td>\n      <td>65</td>\n      <td>46</td>\n      <td>...</td>\n      <td>29.88</td>\n      <td>29.77</td>\n      <td>10</td>\n      <td>10</td>\n      <td>10</td>\n      <td>16</td>\n      <td>9</td>\n      <td>NaN</td>\n      <td>0.00</td>\n      <td>NaN</td>\n    </tr>\n    <tr>\n      <th>685</th>\n      <td>8/28/2016</td>\n      <td>75</td>\n      <td>68.0</td>\n      <td>59</td>\n      <td>54</td>\n      <td>52</td>\n      <td>50</td>\n      <td>80</td>\n      <td>65</td>\n      <td>44</td>\n      <td>...</td>\n      <td>30.06</td>\n      <td>30.01</td>\n      <td>10</td>\n      <td>10</td>\n      <td>10</td>\n      <td>12</td>\n      <td>9</td>\n      <td>NaN</td>\n      <td>0.00</td>\n      <td>NaN</td>\n    </tr>\n    <tr>\n      <th>686</th>\n      <td>8/29/2016</td>\n      <td>81</td>\n      <td>68.0</td>\n      <td>55</td>\n      <td>55</td>\n      <td>53</td>\n      <td>50</td>\n      <td>89</td>\n      <td>65</td>\n      <td>39</td>\n      <td>...</td>\n      <td>30.02</td>\n      <td>29.95</td>\n      <td>10</td>\n      <td>10</td>\n      <td>6</td>\n      <td>9</td>\n      <td>4</td>\n      <td>NaN</td>\n      <td>0.00</td>\n      <td>NaN</td>\n    </tr>\n    <tr>\n      <th>687</th>\n      <td>8/30/2016</td>\n      <td>70</td>\n      <td>64.0</td>\n      <td>57</td>\n      <td>55</td>\n      <td>53</td>\n      <td>52</td>\n      <td>83</td>\n      <td>69</td>\n      <td>53</td>\n      <td>...</td>\n      <td>30.01</td>\n      <td>29.97</td>\n      <td>10</td>\n      <td>10</td>\n      <td>10</td>\n      <td>14</td>\n      <td>9</td>\n      <td>18</td>\n      <td>0.00</td>\n      <td>NaN</td>\n    </tr>\n    <tr>\n      <th>688</th>\n      <td>8/31/2016</td>\n      <td>71</td>\n      <td>65.0</td>\n      <td>59</td>\n      <td>61</td>\n      <td>56</td>\n      <td>52</td>\n      <td>90</td>\n      <td>77</td>\n      <td>63</td>\n      <td>...</td>\n      <td>29.97</td>\n      <td>29.96</td>\n      <td>10</td>\n      <td>10</td>\n      <td>8</td>\n      <td>14</td>\n      <td>8</td>\n      <td>NaN</td>\n      <td>0.00</td>\n      <td>Rain</td>\n    </tr>\n  </tbody>\n</table>\n<p>689 rows × 21 columns</p>\n</div>"
     },
     "metadata": {},
     "execution_count": 3
    }
   ],
   "source": [
    "trip = pd.read_csv('trip.csv', error_bad_lines=False)\n",
    "weather = pd.read_csv('weather.csv')\n",
    "station = pd.read_csv('station.csv')\n",
    "weather"
   ]
  },
  {
   "source": [
    "# What is the average trip duration for a borrowed bike?"
   ],
   "cell_type": "markdown",
   "metadata": {}
  },
  {
   "cell_type": "code",
   "execution_count": 4,
   "metadata": {},
   "outputs": [
    {
     "output_type": "execute_result",
     "data": {
      "text/plain": [
       "1178.0"
      ]
     },
     "metadata": {},
     "execution_count": 4
    }
   ],
   "source": [
    "mean_trip_duration = trip['tripduration'].mean().round()\n",
    "mean_trip_duration"
   ]
  },
  {
   "source": [],
   "cell_type": "markdown",
   "metadata": {}
  }
 ]
}